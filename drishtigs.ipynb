{
  "nbformat": 4,
  "nbformat_minor": 0,
  "metadata": {
    "colab": {
      "provenance": [],
      "authorship_tag": "ABX9TyOE9l9t+TXap1vbaQ2Lul4u"
    },
    "kernelspec": {
      "name": "python3",
      "display_name": "Python 3"
    },
    "language_info": {
      "name": "python"
    }
  },
  "cells": [
    {
      "cell_type": "code",
      "execution_count": null,
      "metadata": {
        "id": "OoBKBFq2zMqp"
      },
      "outputs": [],
      "source": [
        "from google.colab import drive\n",
        "drive.mount('/content/drive')"
      ]
    },
    {
      "cell_type": "code",
      "source": [
        "from skimage.transform import resize\n",
        "import cv2\n",
        "from PIL import Image\n",
        "import imutils\n",
        "import matplotlib.pyplot as plt\n",
        "import os\n",
        "import numpy as np"
      ],
      "metadata": {
        "id": "kzhgZhp80L92"
      },
      "execution_count": null,
      "outputs": []
    },
    {
      "cell_type": "code",
      "source": [
        "def extract_number2(filename):\n",
        "    number_part = filename.replace(\"drishtiGS_\", \"\").replace(\".png\", \"\")\n",
        "    return int(number_part)"
      ],
      "metadata": {
        "id": "ER6O49YxzRDV"
      },
      "execution_count": null,
      "outputs": []
    },
    {
      "cell_type": "markdown",
      "source": [
        "#Extraire les images du dossier test"
      ],
      "metadata": {
        "id": "GeIbLD8gzazA"
      }
    },
    {
      "cell_type": "code",
      "source": [
        "Path_testGT = '/content/drive/MyDrive/Drishti-GS2/DS1/DS2/Test/GT'\n",
        "Path_testIMG = '/content/drive/MyDrive/Drishti-GS2/DS1/DS2/Test/Images'\n",
        "\n",
        "# Définir une fonction pour extraire le nombre du fichier\n",
        "def extract_number(filename):\n",
        "    return int(filename.split('_')[0])\n",
        "\n",
        "images_files = os.listdir(Path_testIMG)\n",
        "image_files = sorted(images_files, key=extract_number2)\n",
        "print(image_files)\n",
        "test_images = []\n",
        "test_GTOD = []\n",
        "test_GTOC = []\n",
        "\n",
        "for image_file in image_files:\n",
        "    image_path = os.path.join(Path_testIMG, image_file)\n",
        "    image = cv2.imread(image_path)\n",
        "    image = readimg(image)\n",
        "\n",
        "    gt_file = os.path.splitext(image_file)[0]\n",
        "    gt_pathOD = os.path.join(Path_testGT, gt_file, 'SoftMap', gt_file + '_ODsegSoftmap.png')\n",
        "    gt_pathOC = os.path.join(Path_testGT, gt_file, 'SoftMap', gt_file + '_cupsegSoftmap.png')\n",
        "\n",
        "    od = cv2.imread(gt_pathOD)\n",
        "    oc = cv2.imread(gt_pathOC)\n",
        "\n",
        "    # Appliquer la binarisation pour créer un masque binaire pour disc\n",
        "    od= cv2.cvtColor(od, cv2.COLOR_BGR2GRAY)\n",
        "    _, od = cv2.threshold(od, 1, 255, cv2.THRESH_BINARY)\n",
        "    oc= cv2.cvtColor(oc, cv2.COLOR_BGR2GRAY)\n",
        "    _, oc= cv2.threshold(oc, 1, 255, cv2.THRESH_BINARY)\n",
        "    # Redimensionner od et oc\n",
        "    od = cv2.resize(od, (256, 256), interpolation=cv2.INTER_NEAREST)\n",
        "    oc = cv2.resize(oc, (256, 256), interpolation=cv2.INTER_NEAREST)\n",
        "\n",
        "    # Mettre à jour disc_mask\n",
        "    od= np.reshape(od, (256, 256, 1))\n",
        "\n",
        "    # Mettre à jour oc\n",
        "    oc = np.reshape(oc, (256, 256, 1))\n",
        "\n",
        "    # Ajouter les données chargées aux listes\n",
        "    test_images.append(image)\n",
        "    test_GTOD.append(od)\n",
        "    test_GTOC.append(oc)\n",
        "\n",
        "# Convertir les listes en tableaux NumPy pour une manipulation plus facile\n",
        "test_images = np.array(test_images)\n",
        "test_GTOD = np.array(test_GTOD)\n",
        "test_GTOC = np.array(test_GTOC)"
      ],
      "metadata": {
        "id": "NadQpqhizWBN"
      },
      "execution_count": null,
      "outputs": []
    },
    {
      "cell_type": "markdown",
      "source": [
        "# Vérifier si image est binaire"
      ],
      "metadata": {
        "id": "CuKWO--Lz5Xh"
      }
    },
    {
      "cell_type": "code",
      "source": [
        "# Vérifier si test_GTOC[0] est binaire\n",
        "is_binary = np.all(np.logical_or(test_GTOD[0] == 0, test_GTOD[0] == 255))\n",
        "\n",
        "if is_binary:\n",
        "    print(\"test_GTOC[0] est binaire.\")\n",
        "else:\n",
        "    print(\"test_GTOC[0] n'est pas binaire.\")"
      ],
      "metadata": {
        "id": "9MYCnvoGz3zq"
      },
      "execution_count": null,
      "outputs": []
    },
    {
      "cell_type": "markdown",
      "source": [
        "#normalization"
      ],
      "metadata": {
        "id": "4OeEIr_q0B9T"
      }
    },
    {
      "cell_type": "code",
      "source": [
        "#test data OD\n",
        "test_images= test_images / 255.0\n",
        "test_GTOD= test_GTOD/ 255.0\n",
        "test_GTOC= test_GTOC / 255.0"
      ],
      "metadata": {
        "id": "ZrWIMmSk0A6p"
      },
      "execution_count": null,
      "outputs": []
    }
  ]
}